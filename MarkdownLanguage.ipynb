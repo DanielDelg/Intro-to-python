{
  "nbformat": 4,
  "nbformat_minor": 0,
  "metadata": {
    "colab": {
      "name": "MarkdownLanguage.ipynb",
      "provenance": [],
      "collapsed_sections": [],
      "authorship_tag": "ABX9TyONGz1mZ73yb+Q17ZX+5m6v",
      "include_colab_link": true
    },
    "kernelspec": {
      "name": "python3",
      "display_name": "Python 3"
    },
    "language_info": {
      "name": "python"
    }
  },
  "cells": [
    {
      "cell_type": "markdown",
      "metadata": {
        "id": "view-in-github",
        "colab_type": "text"
      },
      "source": [
        "<a href=\"https://colab.research.google.com/github/DanielDelg/Intro-to-python/blob/main/MarkdownLanguage.ipynb\" target=\"_parent\"><img src=\"https://colab.research.google.com/assets/colab-badge.svg\" alt=\"Open In Colab\"/></a>"
      ]
    },
    {
      "cell_type": "markdown",
      "metadata": {
        "id": "4nrvWrederOQ"
      },
      "source": [
        "#Hello, my name is **Daniel Delgado**#\n",
        "##My favorite hobbies include:##\n",
        "* Hockey\n",
        "* Baseball\n",
        "* Gaming\n",
        "> My favorite **Hockey team** is the *New York Rangers*, favorite **Baseball team** is the *New York Mets*, and I enjoy playing mostly shooter games as well as some sports games as well.\n",
        "\n"
      ]
    }
  ]
}