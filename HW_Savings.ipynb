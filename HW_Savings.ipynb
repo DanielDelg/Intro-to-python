{
  "nbformat": 4,
  "nbformat_minor": 0,
  "metadata": {
    "colab": {
      "name": "HW_Savings",
      "provenance": [],
      "authorship_tag": "ABX9TyM+JPUbbhaTTnLj4tPb2YHl",
      "include_colab_link": true
    },
    "kernelspec": {
      "name": "python3",
      "display_name": "Python 3"
    },
    "language_info": {
      "name": "python"
    }
  },
  "cells": [
    {
      "cell_type": "markdown",
      "metadata": {
        "id": "view-in-github",
        "colab_type": "text"
      },
      "source": [
        "<a href=\"https://colab.research.google.com/github/DanielDelg/Intro-to-python/blob/main/HW_Savings.ipynb\" target=\"_parent\"><img src=\"https://colab.research.google.com/assets/colab-badge.svg\" alt=\"Open In Colab\"/></a>"
      ]
    },
    {
      "cell_type": "markdown",
      "metadata": {
        "id": "CkbEloVCr4Uc"
      },
      "source": [
        "# Investment Strategy\n",
        "\n",
        "This worksheet with assist in financial decisions.\n",
        "\n",
        "* future value\n",
        "* present value\n",
        "* interest rate\n",
        "* principal\n"
      ]
    },
    {
      "cell_type": "markdown",
      "metadata": {
        "id": "d3Q2OxpxY3s2"
      },
      "source": [
        "# Calculating growth of investment\n",
        "The code below is able to calculate the growth of an investment based on the parameters given. The user is able to see growth based on how many years they want to invest for, the interest rate of the investment, and the principal investment they put in. The program will show based on these variables how much the investment will grow.\n",
        "\n",
        "First, you must  assign the values to a variable including the interest rate, years, and principal investment.\n",
        "\n",
        "interest_rate = .05\n",
        "\n",
        "Then you will use the equation FV= P*(1+IR)^y\n",
        "\n",
        "\n",
        "output = principal*(1+interest_rate)**years\n",
        "\n",
        "Finally, you will print the output to give the final growth of the investment\n"
      ]
    },
    {
      "cell_type": "code",
      "metadata": {
        "colab": {
          "base_uri": "https://localhost:8080/"
        },
        "id": "mumYexEhrw5-",
        "outputId": "9ae5ecfa-e63e-44bf-d7e3-a3f0ed4ba65a"
      },
      "source": [
        "interest_rate = .05\n",
        "years = 10\n",
        "principal = 100\n",
        "output = principal*(1+interest_rate)**years\n",
        "print(f'The output is {output}')"
      ],
      "execution_count": 1,
      "outputs": [
        {
          "output_type": "stream",
          "name": "stdout",
          "text": [
            "The output is 162.8894626777442\n"
          ]
        }
      ]
    },
    {
      "cell_type": "markdown",
      "metadata": {
        "id": "95rBJSZsU4tU"
      },
      "source": [
        "# Determining the investment needed to meet investment goals\n",
        "The code below is able to calculate the growth of an investment based on the parameters given. The user is able to input how many years they want to invest for, their target goal, and the interest rate of the investment. The program then calculates how much the user must invest in order to reach the goal they have input.\n",
        "\n",
        "To do this you must assign the variables to the *future value, number of years for investment, and the interest rate*.\n",
        "\n",
        "fv = float()\n",
        "\n",
        "Then the input function to gain the user input for the variables\n",
        "\n",
        "fv = float(input(\"What is your target goal?\"))\n",
        "\n",
        "This code now gives a variable based on the input of the user, then we must construct an equation that will use the given variables to find the money needed to invest now.\n",
        "\n",
        "You then use the equation FV/(1+IR)^y = PV\n",
        "\n",
        "Turning this into code gives us \n",
        "\n",
        "present_value = fv/(1+interest_rate)**num_years\n",
        "\n",
        "And finally use the print function to print the present value.\n"
      ]
    },
    {
      "cell_type": "code",
      "metadata": {
        "colab": {
          "base_uri": "https://localhost:8080/"
        },
        "id": "dJgT7_A7tlcn",
        "outputId": "7ae40b60-04d6-4091-fbf8-5bffd174b242"
      },
      "source": [
        "fv = float(input(\"What is your target goal?\"))\n",
        "num_years = float(input(\"How many years will you invest?\"))\n",
        "interest_rate = float(input(\"What will the interest rate be?\"))\n",
        "\n",
        "present_value = fv/(1+interest_rate)**num_years\n",
        "print(\"The present value is \", present_value)"
      ],
      "execution_count": null,
      "outputs": [
        {
          "output_type": "stream",
          "name": "stdout",
          "text": [
            "What is your target goal?1000\n",
            "How many years will you invest?8\n",
            "What will the interest rate be?.11\n",
            "The present value is  433.92649629802077\n"
          ]
        }
      ]
    }
  ]
}