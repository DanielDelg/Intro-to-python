{
  "nbformat": 4,
  "nbformat_minor": 0,
  "metadata": {
    "colab": {
      "name": "HW",
      "provenance": [],
      "authorship_tag": "ABX9TyNBZ2ZDbiBWaMpic+vj8pIE",
      "include_colab_link": true
    },
    "kernelspec": {
      "name": "python3",
      "display_name": "Python 3"
    },
    "language_info": {
      "name": "python"
    }
  },
  "cells": [
    {
      "cell_type": "markdown",
      "metadata": {
        "id": "view-in-github",
        "colab_type": "text"
      },
      "source": [
        "<a href=\"https://colab.research.google.com/github/DanielDelg/Intro-to-python/blob/main/Max%2CMin%2CAvg.ipynb\" target=\"_parent\"><img src=\"https://colab.research.google.com/assets/colab-badge.svg\" alt=\"Open In Colab\"/></a>"
      ]
    },
    {
      "cell_type": "code",
      "metadata": {
        "colab": {
          "base_uri": "https://localhost:8080/"
        },
        "id": "J4Al4Lfnwrbt",
        "outputId": "37e45ff4-838e-49cf-933f-b80494386e06"
      },
      "source": [
        "import numpy as np\n",
        "\n",
        "def theMax(numbers):\n",
        "  my_max = numbers[0]\n",
        "  for i in numbers:\n",
        "    if my_max < i:\n",
        "      my_max = i\n",
        "  return my_max\n",
        "\n",
        "def theMin(numbers):\n",
        "  my_min = numbers[0]\n",
        "  for i in numbers:\n",
        "    if my_min > i:\n",
        "      my_min = i\n",
        "  return my_min\n",
        "\n",
        "def theAvg(numbers):\n",
        "  total = 0\n",
        "  for i in numbers:\n",
        "    total+= i\n",
        "  return total/len(numbers)\n",
        "\n",
        "a = [8,6,2,9,13,3]\n",
        "print(theMax(a))\n",
        "print(theMin(a))\n",
        "print(theAvg(a))"
      ],
      "execution_count": null,
      "outputs": [
        {
          "output_type": "stream",
          "name": "stdout",
          "text": [
            "13\n",
            "2\n",
            "6.833333333333333\n"
          ]
        }
      ]
    },
    {
      "cell_type": "code",
      "metadata": {
        "colab": {
          "base_uri": "https://localhost:8080/"
        },
        "id": "Yw6Y0fVhjlcE",
        "outputId": "6313331b-5d34-4af5-ae94-533e59830e93"
      },
      "source": [
        "def shape_choice():\n",
        "  data = int(input(\"Which shape would you like to find the area of? (triangle = 1, square = 2, circle = 3)  \"))\n",
        "  if data is 1:\n",
        "    base = float(input(\"What is the base?\"))\n",
        "    height = float(input(\"What is the height?\"))\n",
        "    triangle(base, height)\n",
        "  elif data is 2:\n",
        "    side = float(input(\"What is the length of the side\"))\n",
        "    square(side)\n",
        "  elif data is 3:\n",
        "    radius = float(input(\"What is the radius?\"))\n",
        "    circle(radius)\n",
        "\n",
        "def triangle(base,height):\n",
        "  print(\"The area of the triangle is: \", base*height)\n",
        "\n",
        "def square(side):\n",
        "  print(\"The area of the square is: \", side*side)\n",
        "\n",
        "def circle(radius):\n",
        "  pi = 3.14\n",
        "  print(\"The area of the circle is: \", pi*(radius**2))\n",
        "\n",
        "shape_choice()"
      ],
      "execution_count": 14,
      "outputs": [
        {
          "output_type": "stream",
          "name": "stdout",
          "text": [
            "Which shape would you like to find the area of? (triangle = 1, square = 2, circle = 3)  3\n",
            "What is the radius?4\n",
            "The area of the circle is:  50.24\n"
          ]
        }
      ]
    },
    {
      "cell_type": "code",
      "metadata": {
        "colab": {
          "base_uri": "https://localhost:8080/"
        },
        "id": "UV7UPSrYmSyM",
        "outputId": "ac6d0299-90c9-4ef2-acd9-36a77f08a7fe"
      },
      "source": [
        "import numpy as np\n",
        "\n",
        "def approach(numbers):\n",
        "  choice = int(input(\"Would you like to see the list 2 times ( type 1 ) or would you like to see the numbers twice ( type 2 ) \"))\n",
        "  if choice is 1:\n",
        "    numbers = numbers*2\n",
        "  elif choice is 2:\n",
        "    numbers = np.array(numbers)\n",
        "    numbers = numbers *2\n",
        "  return numbers\n",
        "\n",
        "Values = [1, 2, 3]\n",
        "print(approach(Values))"
      ],
      "execution_count": 20,
      "outputs": [
        {
          "output_type": "stream",
          "name": "stdout",
          "text": [
            "Would you like to see the list 2 times ( type 1 ) or would you like to see the numbers twice ( type 2 ) 2\n",
            "[2 4 6]\n"
          ]
        }
      ]
    },
    {
      "cell_type": "code",
      "metadata": {
        "colab": {
          "base_uri": "https://localhost:8080/"
        },
        "id": "7NQGmubOow-r",
        "outputId": "5674880a-51aa-4548-b53a-2d74e9419885"
      },
      "source": [
        "\n",
        "\n",
        "def concat_lists(list_1, list_2):\n",
        "  concated = []\n",
        "  for (i,j) in zip(list_1, list_2):\n",
        "    concated.append(int(str(i) + str(j)))\n",
        "  return concated\n",
        "\n",
        "list_1 = [1, 2, 3]\n",
        "list_2 = [7, 8, 9]\n",
        "print(concat_lists(list_1, list_2))"
      ],
      "execution_count": 23,
      "outputs": [
        {
          "output_type": "stream",
          "name": "stdout",
          "text": [
            "[17, 28, 39]\n"
          ]
        }
      ]
    },
    {
      "cell_type": "code",
      "metadata": {
        "colab": {
          "base_uri": "https://localhost:8080/"
        },
        "id": "Z1N-1DV5qOYt",
        "outputId": "027553ea-58de-4e7b-c9f1-5e9576447a18"
      },
      "source": [
        "\n",
        "def calculation(a,b):\n",
        "  return a/b, a*b\n",
        "\n",
        "multiply, divide = calculation(5,7)\n",
        "print(multiply, \" \", divide)"
      ],
      "execution_count": 27,
      "outputs": [
        {
          "output_type": "stream",
          "name": "stdout",
          "text": [
            "0.7142857142857143   35\n"
          ]
        }
      ]
    },
    {
      "cell_type": "code",
      "metadata": {
        "colab": {
          "base_uri": "https://localhost:8080/"
        },
        "id": "ZGaQo1PWq4S_",
        "outputId": "fab2c93a-3b7b-4a7b-bed7-823126f73a64"
      },
      "source": [
        "def evenFib(k):\n",
        "  first = 2\n",
        "  second = 2\n",
        "  total = first + second\n",
        "  for i in range(k):\n",
        "    third = first + second\n",
        "    if (third % 2 == 0):\n",
        "      total += third\n",
        "    first = second\n",
        "    second = third\n",
        "  return total\n",
        "\n",
        "print(evenFib(9))"
      ],
      "execution_count": 44,
      "outputs": [
        {
          "output_type": "stream",
          "name": "stdout",
          "text": [
            "464\n"
          ]
        }
      ]
    }
  ]
}