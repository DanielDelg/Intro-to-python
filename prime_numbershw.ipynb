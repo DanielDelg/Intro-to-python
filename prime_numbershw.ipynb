{
  "nbformat": 4,
  "nbformat_minor": 0,
  "metadata": {
    "colab": {
      "name": "prime_numbers",
      "provenance": [],
      "authorship_tag": "ABX9TyM2rPBjC+zxr+ETwlSQuwvK",
      "include_colab_link": true
    },
    "kernelspec": {
      "name": "python3",
      "display_name": "Python 3"
    },
    "language_info": {
      "name": "python"
    }
  },
  "cells": [
    {
      "cell_type": "markdown",
      "metadata": {
        "id": "view-in-github",
        "colab_type": "text"
      },
      "source": [
        "<a href=\"https://colab.research.google.com/github/DanielDelg/Intro-to-python/blob/main/prime_numbershw.ipynb\" target=\"_parent\"><img src=\"https://colab.research.google.com/assets/colab-badge.svg\" alt=\"Open In Colab\"/></a>"
      ]
    },
    {
      "cell_type": "code",
      "metadata": {
        "colab": {
          "base_uri": "https://localhost:8080/"
        },
        "id": "vUL-yGRg0DOc",
        "outputId": "0f7ec5b7-e5fe-4f4e-af54-9017c61de7c7"
      },
      "source": [
        "def func1(x,y):\n",
        "  return (x+y)/2\n",
        "\n",
        "num1 = int(input(\"Give me a number\"))\n",
        "num2 = int(input(\"Give me a number\"))\n",
        "\n",
        "avg = func1(num1,num2)\n",
        "print(avg)"
      ],
      "execution_count": null,
      "outputs": [
        {
          "output_type": "stream",
          "name": "stdout",
          "text": [
            "Give me a number6\n",
            "Give me a number54\n",
            "30.0\n"
          ]
        }
      ]
    },
    {
      "cell_type": "code",
      "metadata": {
        "colab": {
          "base_uri": "https://localhost:8080/"
        },
        "id": "DDTBKq6J08lY",
        "outputId": "62bce8af-6b18-4008-e8a8-0f1eb4ea7122"
      },
      "source": [
        "#prime number generator\n",
        "def isPrime(num):\n",
        "  for i in range(2,num):\n",
        "    if (num % i == 0):\n",
        "      return False\n",
        "  return True\n",
        "\n",
        "def listprimes(x,y):\n",
        "  for i in range(x, y+1):\n",
        "    if (isPrime(i)):\n",
        "      print(i, end = \" | \")\n",
        "\n",
        "listprimes(2,1000)"
      ],
      "execution_count": null,
      "outputs": [
        {
          "output_type": "stream",
          "name": "stdout",
          "text": [
            "2 | 3 | 5 | 7 | 11 | 13 | 17 | 19 | 23 | 29 | 31 | 37 | 41 | 43 | 47 | 53 | 59 | 61 | 67 | 71 | 73 | 79 | 83 | 89 | 97 | 101 | 103 | 107 | 109 | 113 | 127 | 131 | 137 | 139 | 149 | 151 | 157 | 163 | 167 | 173 | 179 | 181 | 191 | 193 | 197 | 199 | 211 | 223 | 227 | 229 | 233 | 239 | 241 | 251 | 257 | 263 | 269 | 271 | 277 | 281 | 283 | 293 | 307 | 311 | 313 | 317 | 331 | 337 | 347 | 349 | 353 | 359 | 367 | 373 | 379 | 383 | 389 | 397 | 401 | 409 | 419 | 421 | 431 | 433 | 439 | 443 | 449 | 457 | 461 | 463 | 467 | 479 | 487 | 491 | 499 | 503 | 509 | 521 | 523 | 541 | 547 | 557 | 563 | 569 | 571 | 577 | 587 | 593 | 599 | 601 | 607 | 613 | 617 | 619 | 631 | 641 | 643 | 647 | 653 | 659 | 661 | 673 | 677 | 683 | 691 | 701 | 709 | 719 | 727 | 733 | 739 | 743 | 751 | 757 | 761 | 769 | 773 | 787 | 797 | 809 | 811 | 821 | 823 | 827 | 829 | 839 | 853 | 857 | 859 | 863 | 877 | 881 | 883 | 887 | 907 | 911 | 919 | 929 | 937 | 941 | 947 | 953 | 967 | 971 | 977 | 983 | 991 | 997 | "
          ]
        }
      ]
    },
    {
      "cell_type": "code",
      "metadata": {
        "colab": {
          "base_uri": "https://localhost:8080/"
        },
        "id": "juMheNLR3uWq",
        "outputId": "2cb91b04-56af-4a8f-e8d8-fb030daa6daf"
      },
      "source": [
        "#test to see if numbers are coprime\n",
        "def coprime_test(num1, num2):\n",
        "  for i in range(2,num2+1):\n",
        "    if (num1%i == 0 and num2 % i == 0):\n",
        "      return False\n",
        "  return True\n",
        "\n",
        "def list_coprimes(x):\n",
        "  print(1)\n",
        "  for i in range(2,x):\n",
        "    if(coprime_test(x,i)):\n",
        "      print(i)\n",
        "\n",
        "list_coprimes(12)"
      ],
      "execution_count": 1,
      "outputs": [
        {
          "output_type": "stream",
          "name": "stdout",
          "text": [
            "1\n",
            "5\n",
            "7\n",
            "11\n"
          ]
        }
      ]
    },
    {
      "cell_type": "code",
      "metadata": {
        "colab": {
          "base_uri": "https://localhost:8080/"
        },
        "id": "68Txq29_5x6V",
        "outputId": "a29e16a5-f898-4809-f5ec-9fe1e19ec332"
      },
      "source": [
        "#list twin primes\n",
        "def isTwinPrime(x):\n",
        "  if (isPrime(x) and isPrime(x+2)):\n",
        "    return True\n",
        "  return False\n",
        "\n",
        "def listTwinPrimes(x,y):\n",
        "  for i in range(x, y+1):\n",
        "    if (isTwinPrime(i)):\n",
        "      print(i,\" \", i+2)\n",
        "      i += 2\n",
        "\n",
        "listTwinPrimes(2,100)"
      ],
      "execution_count": null,
      "outputs": [
        {
          "output_type": "stream",
          "name": "stdout",
          "text": [
            "3   5\n",
            "5   7\n",
            "11   13\n",
            "17   19\n",
            "29   31\n",
            "41   43\n",
            "59   61\n",
            "71   73\n"
          ]
        }
      ]
    },
    {
      "cell_type": "code",
      "metadata": {
        "colab": {
          "base_uri": "https://localhost:8080/"
        },
        "id": "bO5CqA7Q8KSx",
        "outputId": "9b7f979d-6413-4f64-c4c7-2b6c760db6ee"
      },
      "source": [
        "#test rock paper scissors game\n",
        "import random as r\n",
        "\n",
        "def rps():\n",
        "  rock_count = 0\n",
        "  paper_count = 0\n",
        "  scissor_count = 0\n",
        "\n",
        "  for i in range(10000):\n",
        "    num1 = r.randint(1,3)\n",
        "    num2 = r.randint(1,3)\n",
        "\n",
        "    if(num1 == num2):\n",
        "      continue\n",
        "    elif(num1 == 1 and num2 == 2):\n",
        "      paper_count += 1\n",
        "    elif(num1 == 1 and num2 == 3):\n",
        "      rock_count += 1\n",
        "    elif(num1 == 2 and num2 == 3):\n",
        "      scissor_count += 1\n",
        "\n",
        "  print(\"rock\", rock_count/10000)\n",
        "  print(\"paper\", paper_count/10000)\n",
        "  print(\"scissor\", scissor_count/10000)\n",
        "rps()"
      ],
      "execution_count": null,
      "outputs": [
        {
          "output_type": "stream",
          "name": "stdout",
          "text": [
            "rock 0.1132\n",
            "paper 0.1122\n",
            "scissor 0.1121\n"
          ]
        }
      ]
    },
    {
      "cell_type": "code",
      "metadata": {
        "id": "PQQKkLbvBzoc"
      },
      "source": [
        ""
      ],
      "execution_count": null,
      "outputs": []
    },
    {
      "cell_type": "code",
      "metadata": {
        "colab": {
          "base_uri": "https://localhost:8080/"
        },
        "id": "s7tiv89I_5kf",
        "outputId": "0436f89d-334e-458b-a68a-3943b331996a"
      },
      "source": [
        "int(input(\"List lower number\\t\"))\n",
        "int(input(\"List higher number\\t\"))\n",
        "\n",
        "def list_numbers_between(x,y):\n",
        "  for i in range(x,y+1):\n",
        "    if i > x and i < y:\n",
        "      print(i)\n",
        "\n",
        "list_numbers_between"
      ],
      "execution_count": 7,
      "outputs": [
        {
          "name": "stdout",
          "output_type": "stream",
          "text": [
            "List lower number\t1\n",
            "List higher number\t5\n"
          ]
        },
        {
          "output_type": "execute_result",
          "data": {
            "text/plain": [
              "<function __main__.list_numbers_between>"
            ]
          },
          "metadata": {},
          "execution_count": 7
        }
      ]
    }
  ]
}