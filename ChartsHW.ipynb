{
  "nbformat": 4,
  "nbformat_minor": 0,
  "metadata": {
    "colab": {
      "name": "ChartsHW.ipynb",
      "provenance": [],
      "authorship_tag": "ABX9TyOuY7/g4Dc8+kO4Wk+6XyB5",
      "include_colab_link": true
    },
    "kernelspec": {
      "name": "python3",
      "display_name": "Python 3"
    },
    "language_info": {
      "name": "python"
    }
  },
  "cells": [
    {
      "cell_type": "markdown",
      "metadata": {
        "id": "view-in-github",
        "colab_type": "text"
      },
      "source": [
        "<a href=\"https://colab.research.google.com/github/DanielDelg/Intro-to-python/blob/main/ChartsHW.ipynb\" target=\"_parent\"><img src=\"https://colab.research.google.com/assets/colab-badge.svg\" alt=\"Open In Colab\"/></a>"
      ]
    },
    {
      "cell_type": "code",
      "metadata": {
        "colab": {
          "base_uri": "https://localhost:8080/",
          "height": 204
        },
        "id": "aITCm6gwyNX3",
        "outputId": "59b951b5-b032-4342-f5ea-17b24c1e0258"
      },
      "source": [
        "#load pandas and numpy libraries\n",
        "import pandas as pd\n",
        "import numpy as np\n",
        "import matplotlib.pyplot as plt\n",
        "import missingno as msno\n",
        "import seaborn as sns\n",
        "\n",
        "\n",
        "df = pd.read_csv(\"https://raw.githubusercontent.com/DanielDelg/Intro-to-python/main/NHL%20points%20data%20-%20Sheet1.csv\")\n",
        "df.head()\n"
      ],
      "execution_count": 2,
      "outputs": [
        {
          "output_type": "execute_result",
          "data": {
            "text/html": [
              "<div>\n",
              "<style scoped>\n",
              "    .dataframe tbody tr th:only-of-type {\n",
              "        vertical-align: middle;\n",
              "    }\n",
              "\n",
              "    .dataframe tbody tr th {\n",
              "        vertical-align: top;\n",
              "    }\n",
              "\n",
              "    .dataframe thead th {\n",
              "        text-align: right;\n",
              "    }\n",
              "</style>\n",
              "<table border=\"1\" class=\"dataframe\">\n",
              "  <thead>\n",
              "    <tr style=\"text-align: right;\">\n",
              "      <th></th>\n",
              "      <th>Names</th>\n",
              "      <th>Games Played</th>\n",
              "      <th>Goals</th>\n",
              "      <th>Assists</th>\n",
              "      <th>Total Points</th>\n",
              "      <th>Avg Points per Game</th>\n",
              "    </tr>\n",
              "  </thead>\n",
              "  <tbody>\n",
              "    <tr>\n",
              "      <th>0</th>\n",
              "      <td>McDavid</td>\n",
              "      <td>56</td>\n",
              "      <td>33</td>\n",
              "      <td>72</td>\n",
              "      <td>105</td>\n",
              "      <td>1.875</td>\n",
              "    </tr>\n",
              "    <tr>\n",
              "      <th>1</th>\n",
              "      <td>Draisaitl</td>\n",
              "      <td>56</td>\n",
              "      <td>31</td>\n",
              "      <td>53</td>\n",
              "      <td>84</td>\n",
              "      <td>1.500</td>\n",
              "    </tr>\n",
              "    <tr>\n",
              "      <th>2</th>\n",
              "      <td>Marchand</td>\n",
              "      <td>53</td>\n",
              "      <td>29</td>\n",
              "      <td>40</td>\n",
              "      <td>69</td>\n",
              "      <td>1.302</td>\n",
              "    </tr>\n",
              "    <tr>\n",
              "      <th>3</th>\n",
              "      <td>Marner</td>\n",
              "      <td>55</td>\n",
              "      <td>20</td>\n",
              "      <td>47</td>\n",
              "      <td>67</td>\n",
              "      <td>1.218</td>\n",
              "    </tr>\n",
              "    <tr>\n",
              "      <th>4</th>\n",
              "      <td>Matthews</td>\n",
              "      <td>52</td>\n",
              "      <td>41</td>\n",
              "      <td>25</td>\n",
              "      <td>66</td>\n",
              "      <td>1.269</td>\n",
              "    </tr>\n",
              "  </tbody>\n",
              "</table>\n",
              "</div>"
            ],
            "text/plain": [
              "       Names  Games Played  Goals  Assists  Total Points  Avg Points per Game\n",
              "0    McDavid            56     33       72           105                1.875\n",
              "1  Draisaitl            56     31       53            84                1.500\n",
              "2   Marchand            53     29       40            69                1.302\n",
              "3     Marner            55     20       47            67                1.218\n",
              "4   Matthews            52     41       25            66                1.269"
            ]
          },
          "metadata": {},
          "execution_count": 2
        }
      ]
    },
    {
      "cell_type": "code",
      "metadata": {
        "colab": {
          "base_uri": "https://localhost:8080/"
        },
        "id": "W-hCi8Rv3l_r",
        "outputId": "e993659f-77cd-472f-e946-5b7e9a3c48f7"
      },
      "source": [
        "#check for nulls\n",
        "df.isnull().sum()"
      ],
      "execution_count": 5,
      "outputs": [
        {
          "output_type": "execute_result",
          "data": {
            "text/plain": [
              "Names                  10\n",
              "Games Played            5\n",
              "Goals                   9\n",
              "Assists                10\n",
              "Total Points            8\n",
              "Avg Points per Game     9\n",
              "dtype: int64"
            ]
          },
          "metadata": {},
          "execution_count": 5
        }
      ]
    },
    {
      "cell_type": "code",
      "metadata": {
        "colab": {
          "base_uri": "https://localhost:8080/"
        },
        "id": "QlzV9tTR4I0H",
        "outputId": "23bad7cd-5cec-4cd6-a95b-10ca5c06a6ba"
      },
      "source": [
        "#list number of unique values\n",
        "df.nunique()"
      ],
      "execution_count": 6,
      "outputs": [
        {
          "output_type": "execute_result",
          "data": {
            "text/plain": [
              "Names                  10\n",
              "Games Played            5\n",
              "Goals                   9\n",
              "Assists                10\n",
              "Total Points            8\n",
              "Avg Points per Game     9\n",
              "dtype: int64"
            ]
          },
          "metadata": {},
          "execution_count": 6
        }
      ]
    },
    {
      "cell_type": "code",
      "metadata": {
        "colab": {
          "base_uri": "https://localhost:8080/",
          "height": 297
        },
        "id": "x0LAKni44PKY",
        "outputId": "b52d7767-87fc-42d7-f449-fba99791da2c"
      },
      "source": [
        "df.describe()"
      ],
      "execution_count": 7,
      "outputs": [
        {
          "output_type": "execute_result",
          "data": {
            "text/html": [
              "<div>\n",
              "<style scoped>\n",
              "    .dataframe tbody tr th:only-of-type {\n",
              "        vertical-align: middle;\n",
              "    }\n",
              "\n",
              "    .dataframe tbody tr th {\n",
              "        vertical-align: top;\n",
              "    }\n",
              "\n",
              "    .dataframe thead th {\n",
              "        text-align: right;\n",
              "    }\n",
              "</style>\n",
              "<table border=\"1\" class=\"dataframe\">\n",
              "  <thead>\n",
              "    <tr style=\"text-align: right;\">\n",
              "      <th></th>\n",
              "      <th>Games Played</th>\n",
              "      <th>Goals</th>\n",
              "      <th>Assists</th>\n",
              "      <th>Total Points</th>\n",
              "      <th>Avg Points per Game</th>\n",
              "    </tr>\n",
              "  </thead>\n",
              "  <tbody>\n",
              "    <tr>\n",
              "      <th>count</th>\n",
              "      <td>10.000000</td>\n",
              "      <td>10.00000</td>\n",
              "      <td>10.000000</td>\n",
              "      <td>10.00000</td>\n",
              "      <td>10.00000</td>\n",
              "    </tr>\n",
              "    <tr>\n",
              "      <th>mean</th>\n",
              "      <td>53.900000</td>\n",
              "      <td>26.40000</td>\n",
              "      <td>44.900000</td>\n",
              "      <td>71.30000</td>\n",
              "      <td>1.32180</td>\n",
              "    </tr>\n",
              "    <tr>\n",
              "      <th>std</th>\n",
              "      <td>2.643651</td>\n",
              "      <td>7.77746</td>\n",
              "      <td>12.458375</td>\n",
              "      <td>13.33375</td>\n",
              "      <td>0.22426</td>\n",
              "    </tr>\n",
              "    <tr>\n",
              "      <th>min</th>\n",
              "      <td>48.000000</td>\n",
              "      <td>15.00000</td>\n",
              "      <td>25.000000</td>\n",
              "      <td>62.00000</td>\n",
              "      <td>1.12500</td>\n",
              "    </tr>\n",
              "    <tr>\n",
              "      <th>25%</th>\n",
              "      <td>52.250000</td>\n",
              "      <td>20.25000</td>\n",
              "      <td>38.500000</td>\n",
              "      <td>65.25000</td>\n",
              "      <td>1.18875</td>\n",
              "    </tr>\n",
              "    <tr>\n",
              "      <th>50%</th>\n",
              "      <td>55.000000</td>\n",
              "      <td>26.50000</td>\n",
              "      <td>43.500000</td>\n",
              "      <td>66.00000</td>\n",
              "      <td>1.26900</td>\n",
              "    </tr>\n",
              "    <tr>\n",
              "      <th>75%</th>\n",
              "      <td>56.000000</td>\n",
              "      <td>30.75000</td>\n",
              "      <td>50.000000</td>\n",
              "      <td>68.50000</td>\n",
              "      <td>1.34100</td>\n",
              "    </tr>\n",
              "    <tr>\n",
              "      <th>max</th>\n",
              "      <td>56.000000</td>\n",
              "      <td>41.00000</td>\n",
              "      <td>72.000000</td>\n",
              "      <td>105.00000</td>\n",
              "      <td>1.87500</td>\n",
              "    </tr>\n",
              "  </tbody>\n",
              "</table>\n",
              "</div>"
            ],
            "text/plain": [
              "       Games Played     Goals    Assists  Total Points  Avg Points per Game\n",
              "count     10.000000  10.00000  10.000000      10.00000             10.00000\n",
              "mean      53.900000  26.40000  44.900000      71.30000              1.32180\n",
              "std        2.643651   7.77746  12.458375      13.33375              0.22426\n",
              "min       48.000000  15.00000  25.000000      62.00000              1.12500\n",
              "25%       52.250000  20.25000  38.500000      65.25000              1.18875\n",
              "50%       55.000000  26.50000  43.500000      66.00000              1.26900\n",
              "75%       56.000000  30.75000  50.000000      68.50000              1.34100\n",
              "max       56.000000  41.00000  72.000000     105.00000              1.87500"
            ]
          },
          "metadata": {},
          "execution_count": 7
        }
      ]
    },
    {
      "cell_type": "code",
      "metadata": {
        "colab": {
          "base_uri": "https://localhost:8080/",
          "height": 314
        },
        "id": "thimr9oz40QN",
        "outputId": "fe61cd70-86cd-42cd-d562-16e9d4a9f434"
      },
      "source": [
        "sns.catplot(data=df , kind='box' , height=4, aspect=2)"
      ],
      "execution_count": 8,
      "outputs": [
        {
          "output_type": "execute_result",
          "data": {
            "text/plain": [
              "<seaborn.axisgrid.FacetGrid at 0x7fe27f2635d0>"
            ]
          },
          "metadata": {},
          "execution_count": 8
        },
        {
          "output_type": "display_data",
          "data": {
            "image/png": "[encoded data removed]",
            "text/plain": [
              "<Figure size 576x288 with 1 Axes>"
            ]
          },
          "metadata": {
            "needs_background": "light"
          }
        }
      ]
    },
    {
      "cell_type": "code",
      "metadata": {
        "colab": {
          "base_uri": "https://localhost:8080/",
          "height": 242
        },
        "id": "Ev8QloAH5LSY",
        "outputId": "b83db00c-4b89-4911-dab1-4a7084a61ada"
      },
      "source": [
        "sns.catplot(x='Games Played', data=df , kind='count', height=3 , aspect= 1.1)"
      ],
      "execution_count": 11,
      "outputs": [
        {
          "output_type": "execute_result",
          "data": {
            "text/plain": [
              "<seaborn.axisgrid.FacetGrid at 0x7fe277041690>"
            ]
          },
          "metadata": {},
          "execution_count": 11
        },
        {
          "output_type": "display_data",
          "data": {
            "image/png": "[encoded data removed]",
            "text/plain": [
              "<Figure size 237.6x216 with 1 Axes>"
            ]
          },
          "metadata": {
            "needs_background": "light"
          }
        }
      ]
    },
    {
      "cell_type": "code",
      "metadata": {
        "colab": {
          "base_uri": "https://localhost:8080/",
          "height": 726
        },
        "id": "sLeIe73q6LNx",
        "outputId": "d5e60a29-3798-413f-9557-b1a5d331669c"
      },
      "source": [
        "df.hist(figsize=(15,10), bins= 20, xlabelsize=10, ylabelsize=10)"
      ],
      "execution_count": 12,
      "outputs": [
        {
          "output_type": "execute_result",
          "data": {
            "text/plain": [
              "array([[<matplotlib.axes._subplots.AxesSubplot object at 0x7fe2721d2910>,\n",
              "        <matplotlib.axes._subplots.AxesSubplot object at 0x7fe272172450>],\n",
              "       [<matplotlib.axes._subplots.AxesSubplot object at 0x7fe2721a8ad0>,\n",
              "        <matplotlib.axes._subplots.AxesSubplot object at 0x7fe2720f4410>],\n",
              "       [<matplotlib.axes._subplots.AxesSubplot object at 0x7fe2721289d0>,\n",
              "        <matplotlib.axes._subplots.AxesSubplot object at 0x7fe2720e8090>]],\n",
              "      dtype=object)"
            ]
          },
          "metadata": {},
          "execution_count": 12
        },
        {
          "output_type": "display_data",
          "data": {
            "image/png": "[encoded data removed]",
            "text/plain": [
              "<Figure size 1080x720 with 6 Axes>"
            ]
          },
          "metadata": {
            "needs_background": "light"
          }
        }
      ]
    },
    {
      "cell_type": "code",
      "metadata": {
        "colab": {
          "base_uri": "https://localhost:8080/",
          "height": 204
        },
        "id": "1Cbfm8Jf-eCV",
        "outputId": "c09b7710-7f5c-42cf-f428-14ddda41bd5b"
      },
      "source": [
        "df2 = df.drop(['Games Played', 'Avg Points per Game'], axis = 1)\n",
        "df2.head()"
      ],
      "execution_count": 15,
      "outputs": [
        {
          "output_type": "execute_result",
          "data": {
            "text/html": [
              "<div>\n",
              "<style scoped>\n",
              "    .dataframe tbody tr th:only-of-type {\n",
              "        vertical-align: middle;\n",
              "    }\n",
              "\n",
              "    .dataframe tbody tr th {\n",
              "        vertical-align: top;\n",
              "    }\n",
              "\n",
              "    .dataframe thead th {\n",
              "        text-align: right;\n",
              "    }\n",
              "</style>\n",
              "<table border=\"1\" class=\"dataframe\">\n",
              "  <thead>\n",
              "    <tr style=\"text-align: right;\">\n",
              "      <th></th>\n",
              "      <th>Names</th>\n",
              "      <th>Goals</th>\n",
              "      <th>Assists</th>\n",
              "      <th>Total Points</th>\n",
              "    </tr>\n",
              "  </thead>\n",
              "  <tbody>\n",
              "    <tr>\n",
              "      <th>0</th>\n",
              "      <td>McDavid</td>\n",
              "      <td>33</td>\n",
              "      <td>72</td>\n",
              "      <td>105</td>\n",
              "    </tr>\n",
              "    <tr>\n",
              "      <th>1</th>\n",
              "      <td>Draisaitl</td>\n",
              "      <td>31</td>\n",
              "      <td>53</td>\n",
              "      <td>84</td>\n",
              "    </tr>\n",
              "    <tr>\n",
              "      <th>2</th>\n",
              "      <td>Marchand</td>\n",
              "      <td>29</td>\n",
              "      <td>40</td>\n",
              "      <td>69</td>\n",
              "    </tr>\n",
              "    <tr>\n",
              "      <th>3</th>\n",
              "      <td>Marner</td>\n",
              "      <td>20</td>\n",
              "      <td>47</td>\n",
              "      <td>67</td>\n",
              "    </tr>\n",
              "    <tr>\n",
              "      <th>4</th>\n",
              "      <td>Matthews</td>\n",
              "      <td>41</td>\n",
              "      <td>25</td>\n",
              "      <td>66</td>\n",
              "    </tr>\n",
              "  </tbody>\n",
              "</table>\n",
              "</div>"
            ],
            "text/plain": [
              "       Names  Goals  Assists  Total Points\n",
              "0    McDavid     33       72           105\n",
              "1  Draisaitl     31       53            84\n",
              "2   Marchand     29       40            69\n",
              "3     Marner     20       47            67\n",
              "4   Matthews     41       25            66"
            ]
          },
          "metadata": {},
          "execution_count": 15
        }
      ]
    },
    {
      "cell_type": "code",
      "metadata": {
        "colab": {
          "base_uri": "https://localhost:8080/",
          "height": 357
        },
        "id": "DswTHFmj8wEp",
        "outputId": "683a7861-0252-48d6-eaef-7bd1d09e3ae1"
      },
      "source": [
        "\n",
        "ax = df2.plot.bar(x='Names')\n",
        "\n",
        "ax.set_xlabel(\"Names\")\n",
        "ax.set_ylabel('Scoring')\n",
        "ax.set_title('Scoring by Player')"
      ],
      "execution_count": 16,
      "outputs": [
        {
          "output_type": "execute_result",
          "data": {
            "text/plain": [
              "Text(0.5, 1.0, 'Scoring by Player')"
            ]
          },
          "metadata": {},
          "execution_count": 16
        },
        {
          "output_type": "display_data",
          "data": {
            "image/png": "[encoded data removed]",
            "text/plain": [
              "<Figure size 432x288 with 1 Axes>"
            ]
          },
          "metadata": {
            "needs_background": "light"
          }
        }
      ]
    },
    {
      "cell_type": "code",
      "metadata": {
        "colab": {
          "base_uri": "https://localhost:8080/",
          "height": 596
        },
        "id": "KMY5OsqF6rie",
        "outputId": "eb7b52ed-4917-437e-e64b-5f151e8dd62d"
      },
      "source": [
        "corr = df.corr()\n",
        "fig, ax = plt.subplots(figsize=(10,10))\n",
        "sns.heatmap(data=corr, square=True , annot=True, cbar=True, ax = ax)"
      ],
      "execution_count": 13,
      "outputs": [
        {
          "output_type": "execute_result",
          "data": {
            "text/plain": [
              "<matplotlib.axes._subplots.AxesSubplot at 0x7fe271debd10>"
            ]
          },
          "metadata": {},
          "execution_count": 13
        },
        {
          "output_type": "display_data",
          "data": {
            "image/png": "[encoded data removed]",
            "text/plain": [
              "<Figure size 720x720 with 2 Axes>"
            ]
          },
          "metadata": {
            "needs_background": "light"
          }
        }
      ]
    },
    {
      "cell_type": "markdown",
      "metadata": {
        "id": "3ZDWzvwP_OZE"
      },
      "source": [
        "#What is Data Science?\n",
        "Data science is the process of preparing data for analysis, like separating data into types. First Data is separated into Numerical and Categorical data, numerical data is values that represent variables and have discrete units, it also doesnt matter the order of this data. **Categorical data** is based on characteristics like gender and language, these numbers don't have any mathematical meaning behind them. **Numerical data** is then split into two categories of discrete and continuous. Continuous data represents measurements and cannot be counted only measured, while discrete data cannot be measured only counted and is information that can be categorized into classification. Categorical data is split into ordinal and nominal data. Ordinal data is discrete and ordered units, while nominal data is used to label variables and do not need to be ordered in a specific way.\n",
        "\n",
        "#What is the difference between Tuples and Lists?\n",
        "The main difference between Tuples and Lists is the ability to be modified. Lists are subject to changes while Tuples cannot be modified in any way.\n",
        "\n",
        "\n",
        "1.**scikit learn**\n",
        "\n",
        "Scikit learn is a library for machine learning algorithms.\n",
        "\n",
        "2.**pandas**\n",
        "\n",
        "Pandas is a library mainly for the analysis of data and data manipulation.\n",
        "\n",
        "3.**tensorflow**\n",
        "\n",
        "Tensorflow is a library for faster numerical computations\n",
        "\n",
        "4.**numpy**\n",
        "\n",
        "Numpys is a library used to do different operations to arrays in code\n",
        "\n",
        "5.**tkinter**\n",
        "\n",
        "Tkinter is a library that is used to create Graphical User Interfaces (GUI)\n"
      ]
    }
  ]
}