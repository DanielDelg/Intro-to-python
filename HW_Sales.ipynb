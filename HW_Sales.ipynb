{
  "nbformat": 4,
  "nbformat_minor": 0,
  "metadata": {
    "colab": {
      "name": "HW_Sales",
      "provenance": [],
      "authorship_tag": "ABX9TyMxR9MI6z4ZknGroeF5fND2",
      "include_colab_link": true
    },
    "kernelspec": {
      "name": "python3",
      "display_name": "Python 3"
    },
    "language_info": {
      "name": "python"
    }
  },
  "cells": [
    {
      "cell_type": "markdown",
      "metadata": {
        "id": "view-in-github",
        "colab_type": "text"
      },
      "source": [
        "<a href=\"https://colab.research.google.com/github/DanielDelg/Intro-to-python/blob/main/HW_Sales.ipynb\" target=\"_parent\"><img src=\"https://colab.research.google.com/assets/colab-badge.svg\" alt=\"Open In Colab\"/></a>"
      ]
    },
    {
      "cell_type": "markdown",
      "metadata": {
        "id": "C-iOBhNkeK1D"
      },
      "source": [
        "#Calculating the price of a purchase including discount\n",
        "\n",
        "This code is able to use logic based on a user input to determine if the purchase is able to add a discount, and calculating the total price with the discount for the user.\n",
        "\n",
        "First, I set the variables for the quantity of packages which is gathered by getting a user input, price of a single package, and the base discount.\n",
        "\n",
        "Next, I create a series of logic to give situations for the discount variable to change, and the program will then change the value of the discount variable based on the quantity of packages.\n",
        "\n",
        "if quantity >= 10 and quantity <= 19:\n",
        "\n",
        "  discount = .1\n",
        "\n",
        "  Then I create a formula to calculate the total price including the situational discount and then print the value and current discount to the user.\n",
        "\n",
        "total_amount = package*quantity*(1-discount)\n",
        "\n",
        "print(\"The discount saved is \", discount*100, \"%.\")\n",
        "\n",
        "print(\"The total price is: \",total_amount)"
      ]
    },
    {
      "cell_type": "code",
      "metadata": {
        "colab": {
          "base_uri": "https://localhost:8080/"
        },
        "id": "1kI5mfe8bgWv",
        "outputId": "60cc8ef2-0116-4a69-f74f-e1734e55786c"
      },
      "source": [
        "package = 99\n",
        "quantity = int(input(\"How many would you like to purchase?\\n\"))\n",
        "discount = 0\n",
        "if quantity >= 10 and quantity <= 19:\n",
        "  discount = .1\n",
        "elif quantity >=20 and quantity <= 49:\n",
        "  discount = .2\n",
        "elif quantity >= 50 and quantity <= 100:\n",
        "  discount = .3\n",
        "elif quantity >= 100:\n",
        "  discount = .4\n",
        "\n",
        "total_amount = package*quantity*(1-discount)\n",
        "\n",
        "print(\"The discount saved is \", discount*100, \"%.\")\n",
        "print(\"The total price is: \",total_amount)"
      ],
      "execution_count": 1,
      "outputs": [
        {
          "output_type": "stream",
          "name": "stdout",
          "text": [
            "How many would you like to purchase?\n",
            "15\n",
            "The discount saved is  10.0 %.\n",
            "The total price is:  1336.5\n"
          ]
        }
      ]
    },
    {
      "cell_type": "markdown",
      "metadata": {
        "id": "WB00S_e5eIr4"
      },
      "source": [
        "#Calculating the shipping cost based on the weight\n",
        "\n",
        "The program is made to take the user input of the weight of a package and then based on the weight it will calculate the price it cost to ship it.\n",
        "\n",
        "First, I set the variables for the weight based on the user input, and then set the base price for shipping charge.\n",
        "\n",
        "Then, I set the logic that determines the shipping charge per pound based on the different weights that each charge corresponds to, and input the shipping charge. \n",
        "\n",
        "if Weight >= 0 and Weight <= 2:\n",
        "\n",
        "  Shipping_charge = 1.50\n",
        "\n",
        "  Then, I set the equation that will calculate the price per pound of the input weight based on the proper charge for the weight class.\n",
        "\n",
        "  Cost = Weight*Shipping_charge\n",
        "\n",
        "  Finally I print the total cost to the user\n",
        "\n",
        "  print(\"The total cost of shipping is: $\",Cost)"
      ]
    },
    {
      "cell_type": "code",
      "metadata": {
        "colab": {
          "base_uri": "https://localhost:8080/"
        },
        "id": "O05JyeYvbmaX",
        "outputId": "3519476a-01f2-4e4f-9fa4-687f424de052"
      },
      "source": [
        "Weight = float(input(\"How much does your package weigh?\\n\"))\n",
        "Shipping_charge = 0\n",
        "if Weight >= 0 and Weight <= 2:\n",
        "  Shipping_charge = 1.50\n",
        "elif Weight > 6 and Weight <= 10:\n",
        "  Shipping_charge = 4.00\n",
        "elif Weight > 10:\n",
        "  Shipping_charge = 4.75\n",
        "\n",
        "Cost = Weight*Shipping_charge\n",
        "print(\"The total cost of shipping is: $\",Cost)"
      ],
      "execution_count": 10,
      "outputs": [
        {
          "output_type": "stream",
          "name": "stdout",
          "text": [
            "How much does your package weigh?\n",
            "1.5\n",
            "The total cost of shipping is: $ 2.25\n"
          ]
        }
      ]
    }
  ]
}